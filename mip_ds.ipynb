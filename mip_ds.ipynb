{
 "cells": [
  {
   "attachments": {},
   "cell_type": "markdown",
   "metadata": {},
   "source": [
    "# Minor Project Data Science\n"
   ]
  },
  {
   "attachments": {},
   "cell_type": "markdown",
   "metadata": {},
   "source": [
    "### Loan mount Prediction based on credit history and other variables\n",
    "train and test data is already separated use it wisely(no need to use test_train_split)\n",
    "Predict the loan amount (y output column)\n",
    "Create a report as well 5-6 pages report format is given in other post"
   ]
  },
  {
   "attachments": {},
   "cell_type": "markdown",
   "metadata": {},
   "source": [
    "## -------------------------------------------"
   ]
  },
  {
   "cell_type": "code",
   "execution_count": null,
   "metadata": {},
   "outputs": [],
   "source": [
    "# installing required packages\n",
    "#!pip install matplotlib\n",
    "#!pip install seaborn"
   ]
  },
  {
   "cell_type": "code",
   "execution_count": 3,
   "metadata": {},
   "outputs": [],
   "source": [
    "import pandas as pd\n",
    "import matplotlib.pyplot as mp\n",
    "import numpy as np"
   ]
  },
  {
   "cell_type": "code",
   "execution_count": 5,
   "metadata": {},
   "outputs": [],
   "source": [
    "def import_csv(file_path):\n",
    "    \"\"\"\n",
    "    Import CSV data using pandas.\n",
    "    \"\"\"\n",
    "    data = pd.read_csv(file_path)\n",
    "    return data\n",
    "\n"
   ]
  },
  {
   "cell_type": "code",
   "execution_count": 9,
   "metadata": {},
   "outputs": [],
   "source": [
    "def extract_data(data):\n",
    "    \"\"\"\n",
    "    Extract specific columns or rows from the data.\n",
    "    \"\"\"\n",
    "    # Extract specific columns\n",
    "    extracted_columns = data[['Loan_ID', 'Gender', 'Married', 'Dependents', 'Education', 'Self_Employed',\n",
    "                              'ApplicantIncome', 'CoapplicantIncome', 'LoanAmount', 'Loan_Amount_Term',\n",
    "                              'Credit_History', 'Property_Area']]\n",
    "    \n",
    "    # Extract specific rows based on condition\n",
    "    extracted_rows = data[data['Credit_History'] == 1]\n",
    "    \n",
    "    return extracted_columns, extracted_rows"
   ]
  },
  {
   "cell_type": "code",
   "execution_count": null,
   "metadata": {},
   "outputs": [],
   "source": [
    "\n",
    "# Main program\n",
    "if __name__ == \"__main__\":\n",
    "    # Path to the CSV file\n",
    "    file_path = \"test_Y3wMUE5_7gLdaTN.csv\"\n",
    "    \n",
    "    # Import CSV data\n",
    "    csv_data = import_csv(file_path)\n",
    "    \n",
    "    # Extract specific data\n",
    "    extracted_columns, extracted_rows = extract_data(csv_data)\n",
    "    \n",
    "    # Print the extracted columns\n",
    "    print(\"Extracted Columns:\")\n",
    "    print(extracted_columns)\n",
    "    print()\n",
    "    \n",
    "    # Print the extracted rows\n",
    "    print(\"Extracted Rows:\")\n",
    "    print(extracted_rows)"
   ]
  },
  {
   "cell_type": "code",
   "execution_count": null,
   "metadata": {},
   "outputs": [],
   "source": []
  }
 ],
 "metadata": {
  "kernelspec": {
   "display_name": "Python 3",
   "language": "python",
   "name": "python3"
  },
  "language_info": {
   "codemirror_mode": {
    "name": "ipython",
    "version": 3
   },
   "file_extension": ".py",
   "mimetype": "text/x-python",
   "name": "python",
   "nbconvert_exporter": "python",
   "pygments_lexer": "ipython3",
   "version": "3.11.1"
  },
  "orig_nbformat": 4
 },
 "nbformat": 4,
 "nbformat_minor": 2
}
